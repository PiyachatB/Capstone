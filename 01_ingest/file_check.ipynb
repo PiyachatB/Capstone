{
 "cells": [
  {
   "cell_type": "code",
   "execution_count": 0,
   "metadata": {
    "application/vnd.databricks.v1+cell": {
     "cellMetadata": {
      "byteLimit": 2048000,
      "rowLimit": 10000
     },
     "inputWidgets": {},
     "nuid": "66317fb1-2cea-44c4-ad65-4a5089de6d06",
     "showTitle": false,
     "tableResultSettingsMap": {},
     "title": ""
    }
   },
   "outputs": [],
   "source": [
    "# Define  parameters\n",
    "file_list = [file.name for file in dbutils.fs.ls(\"/Volumes/capstone/schema_bronze/00_data/batch/\") if file.name != \"archive/\"]\n",
    "\n",
    "# Pass parameters to the next task\n",
    "dbutils.widgets.text(\"file_list\",\",\".join(file_list))\n"
   ]
  }
 ],
 "metadata": {
  "application/vnd.databricks.v1+notebook": {
   "computePreferences": null,
   "dashboards": [],
   "environmentMetadata": {
    "base_environment": "",
    "environment_version": "3"
   },
   "inputWidgetPreferences": null,
   "language": "python",
   "notebookMetadata": {
    "pythonIndentUnit": 4
   },
   "notebookName": "file_check",
   "widgets": {
    "file_list": {
     "currentValue": "diagnosis_ref.csv,members.csv,providers.json",
     "nuid": "41ead3e0-0827-4291-b277-e29ae3d81fbc",
     "typedWidgetInfo": {
      "autoCreated": false,
      "defaultValue": "diagnosis_ref.csv,members.csv,providers.json",
      "label": null,
      "name": "file_list",
      "options": {
       "widgetDisplayType": "Text",
       "validationRegex": null
      },
      "parameterDataType": "String"
     },
     "widgetInfo": {
      "widgetType": "text",
      "defaultValue": "diagnosis_ref.csv,members.csv,providers.json",
      "label": null,
      "name": "file_list",
      "options": {
       "widgetType": "text",
       "autoCreated": false,
       "validationRegex": null
      }
     }
    }
   }
  },
  "language_info": {
   "name": "python"
  }
 },
 "nbformat": 4,
 "nbformat_minor": 0
}
