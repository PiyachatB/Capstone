{
 "cells": [
  {
   "cell_type": "code",
   "execution_count": 0,
   "metadata": {
    "application/vnd.databricks.v1+cell": {
     "cellMetadata": {},
     "inputWidgets": {},
     "nuid": "be39ef0d-fa51-47a2-8831-5601a4a034de",
     "showTitle": false,
     "tableResultSettingsMap": {},
     "title": ""
    }
   },
   "outputs": [],
   "source": [
    "from pyspark.sql.functions import lit,current_timestamp\n",
    "current_time = current_timestamp()"
   ]
  },
  {
   "cell_type": "code",
   "execution_count": 0,
   "metadata": {
    "application/vnd.databricks.v1+cell": {
     "cellMetadata": {},
     "inputWidgets": {},
     "nuid": "b323eae3-280c-42d1-9494-c66b879d77b1",
     "showTitle": false,
     "tableResultSettingsMap": {},
     "title": ""
    }
   },
   "outputs": [],
   "source": [
    "diag_df = (\n",
    "    spark.read\n",
    "        .option(\"header\", \"true\")\n",
    "        .csv(\"/Volumes/capstone/schema_bronze/00_data/batch/diagnosis_ref.csv\")   # path to batch file\n",
    "        # .withColumn(\"_source\", lit(\"batch\"))\n",
    "        .withColumn(\"_ingestion_timestamp\", current_time)\n",
    ")\n",
    "\n",
    "diag_df.write.mode(\"overwrite\").saveAsTable(\"capstone.schema_bronze.diagnosis_codes_raw\")"
   ]
  }
 ],
 "metadata": {
  "application/vnd.databricks.v1+notebook": {
   "computePreferences": null,
   "dashboards": [],
   "environmentMetadata": {
    "base_environment": "",
    "environment_version": "3"
   },
   "inputWidgetPreferences": null,
   "language": "python",
   "notebookMetadata": {
    "pythonIndentUnit": 4
   },
   "notebookName": "ingest_diagnostic_ref",
   "widgets": {}
  },
  "language_info": {
   "name": "python"
  }
 },
 "nbformat": 4,
 "nbformat_minor": 0
}
