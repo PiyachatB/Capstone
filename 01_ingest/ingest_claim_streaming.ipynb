{
 "cells": [
  {
   "cell_type": "code",
   "execution_count": 0,
   "metadata": {
    "application/vnd.databricks.v1+cell": {
     "cellMetadata": {
      "byteLimit": 2048000,
      "rowLimit": 10000
     },
     "inputWidgets": {},
     "nuid": "fe71913b-d16c-4c06-8e13-7a43b88d6e93",
     "showTitle": false,
     "tableResultSettingsMap": {},
     "title": ""
    }
   },
   "outputs": [],
   "source": [
    "# Batch claims ingestion (CSV / TXT)\n",
    "from pyspark.sql.functions import lit,current_timestamp\n",
    "\n",
    "claims_batch_df = (\n",
    "    spark.read\n",
    "        .option(\"header\", \"true\")\n",
    "        .csv(\"/Volumes/capstone/schema_bronze/00_data/streaming/claims_batch.csv\")   # path to batch file\n",
    "        .withColumn(\"_source\", lit(\"batch\"))\n",
    "        .withColumn(\"_ingestion_timestamp\", current_timestamp())\n",
    ")\n",
    "\n",
    "claims_batch_df.write.mode(\"overwrite\").saveAsTable(\"capstone.schema_bronze.claims_batch\")"
   ]
  }
 ],
 "metadata": {
  "application/vnd.databricks.v1+notebook": {
   "computePreferences": null,
   "dashboards": [],
   "environmentMetadata": {
    "base_environment": "",
    "environment_version": "3"
   },
   "inputWidgetPreferences": null,
   "language": "python",
   "notebookMetadata": {
    "pythonIndentUnit": 4
   },
   "notebookName": "ingest_claim_streaming",
   "widgets": {}
  },
  "language_info": {
   "name": "python"
  }
 },
 "nbformat": 4,
 "nbformat_minor": 0
}
