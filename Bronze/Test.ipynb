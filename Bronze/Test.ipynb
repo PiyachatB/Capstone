{
 "cells": [
  {
   "cell_type": "code",
   "execution_count": 0,
   "metadata": {
    "application/vnd.databricks.v1+cell": {
     "cellMetadata": {},
     "inputWidgets": {},
     "nuid": "7a50b10f-f1bf-410e-82d1-5997ee982957",
     "showTitle": false,
     "tableResultSettingsMap": {},
     "title": ""
    }
   },
   "outputs": [],
   "source": [
    "print(\"HELLO WORLD\")"
   ]
  },
  {
   "cell_type": "code",
   "execution_count": 0,
   "metadata": {
    "application/vnd.databricks.v1+cell": {
     "cellMetadata": {},
     "inputWidgets": {},
     "nuid": "90b0d0e7-e310-4815-97c0-4403afa65575",
     "showTitle": false,
     "tableResultSettingsMap": {},
     "title": ""
    }
   },
   "outputs": [],
   "source": [
    "# MAGIC %md\n",
    "# MAGIC # Cluster Management Comparison\n",
    "# MAGIC \n",
    "# MAGIC ## All-Purpose vs Jobs Clusters\n",
    "# MAGIC \n",
    "# MAGIC | Feature | All-Purpose | Jobs Clusters |\n",
    "# MAGIC |---------|-------------|---------------|\n",
    "# MAGIC | Use Case | Interactive development | Production jobs |\n",
    "# MAGIC | Cost | Higher (always running) | Lower (on-demand) |\n",
    "# MAGIC | Sharing | Multi-user | Single job |\n",
    "# MAGIC | Autoscaling | Manual/Auto | Automatic |\n",
    "\n",
    "# COMMAND ----------\n",
    "\n",
    "# Cluster configuration examples\n",
    "all_purpose_config = {\n",
    "    \"cluster_name\": \"healthcare-claims-interactive\",\n",
    "    \"spark_version\": \"13.3.x-scala2.12\",\n",
    "    \"node_type_id\": \"i3.xlarge\",\n",
    "    \"num_workers\": 2,\n",
    "    \"autoscale\": {\"min_workers\": 1, \"max_workers\": 4},\n",
    "    \"runtime_engine\": \"STANDARD\"\n",
    "}\n",
    "\n",
    "jobs_cluster_config = {\n",
    "    \"cluster_name\": \"healthcare-claims-jobs\",\n",
    "    \"spark_version\": \"13.3.x-scala2.12\", \n",
    "    \"node_type_id\": \"i3.xlarge\",\n",
    "    \"autoscale\": {\"min_workers\": 1, \"max_workers\": 8},\n",
    "    \"runtime_engine\": \"PHOTON\"  # Better for production workloads\n",
    "}\n",
    "\n",
    "print(\"Cluster configurations defined for interactive and production use\")"
   ]
  }
 ],
 "metadata": {
  "application/vnd.databricks.v1+notebook": {
   "computePreferences": null,
   "dashboards": [],
   "environmentMetadata": {
    "base_environment": "",
    "environment_version": "3"
   },
   "inputWidgetPreferences": null,
   "language": "python",
   "notebookMetadata": {
    "pythonIndentUnit": 4
   },
   "notebookName": "Test",
   "widgets": {}
  },
  "language_info": {
   "name": "python"
  }
 },
 "nbformat": 4,
 "nbformat_minor": 0
}
