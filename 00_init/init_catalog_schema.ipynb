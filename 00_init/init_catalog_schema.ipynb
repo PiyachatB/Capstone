{
 "cells": [
  {
   "cell_type": "code",
   "execution_count": 0,
   "metadata": {
    "application/vnd.databricks.v1+cell": {
     "cellMetadata": {
      "byteLimit": 2048000,
      "rowLimit": 10000
     },
     "inputWidgets": {},
     "nuid": "73a2d4a5-2cbb-4bac-bad0-e9e3978becb7",
     "showTitle": false,
     "tableResultSettingsMap": {},
     "title": ""
    }
   },
   "outputs": [],
   "source": [
    "%sql\n",
    "-- Create main catalog\n",
    "CREATE CATALOG IF NOT EXISTS capstone\n",
    "COMMENT 'Healthcare claims processing and analytics catalog';\n",
    "\n",
    "-- Create schemas for lakehouse architecture\n",
    "CREATE SCHEMA IF NOT EXISTS capstone.schema_bronze\n",
    "COMMENT 'Raw ingested data from various sources - no transformations';\n",
    "\n",
    "CREATE SCHEMA IF NOT EXISTS capstone.schema_silver\n",
    "COMMENT 'Cleaned, validated, and enriched data with quality checks';\n",
    "\n",
    "CREATE SCHEMA IF NOT EXISTS capstone.schema_gold\n",
    "COMMENT 'Aggregated analytics, reporting, and business intelligence data';\n",
    "\n",
    "CREATE SCHEMA IF NOT EXISTS capstone.schema_log\n",
    "COMMENT 'Log data from Jobs and Pipelines run';\n"
   ]
  }
 ],
 "metadata": {
  "application/vnd.databricks.v1+notebook": {
   "computePreferences": null,
   "dashboards": [],
   "environmentMetadata": {
    "base_environment": "",
    "environment_version": "3"
   },
   "inputWidgetPreferences": null,
   "language": "sql",
   "notebookMetadata": {
    "pythonIndentUnit": 4
   },
   "notebookName": "init_catalog_schema",
   "widgets": {}
  },
  "language_info": {
   "name": "sql"
  }
 },
 "nbformat": 4,
 "nbformat_minor": 0
}
