{
 "cells": [
  {
   "cell_type": "code",
   "execution_count": 0,
   "metadata": {
    "application/vnd.databricks.v1+cell": {
     "cellMetadata": {
      "byteLimit": 2048000,
      "rowLimit": 10000
     },
     "inputWidgets": {},
     "nuid": "b299c2c2-c90b-49b0-b2cc-a4a56412874c",
     "showTitle": false,
     "tableResultSettingsMap": {},
     "title": ""
    }
   },
   "outputs": [],
   "source": [
    "CREATE WIDGET TEXT myschema DEFAULT 'capstone.schema_bronze';"
   ]
  },
  {
   "cell_type": "code",
   "execution_count": 0,
   "metadata": {
    "application/vnd.databricks.v1+cell": {
     "cellMetadata": {
      "byteLimit": 2048000,
      "rowLimit": 10000
     },
     "inputWidgets": {},
     "nuid": "add1842b-6002-4f4d-b44a-c47c89fcdf21",
     "showTitle": false,
     "tableResultSettingsMap": {},
     "title": ""
    }
   },
   "outputs": [],
   "source": [
    "-- Bronze: Claims Batch Data (CSV ingestion)\n",
    "CREATE TABLE IF NOT EXISTS IDENTIFIER(:myschema || '.claims_batch') (\n",
    "  ClaimID STRING,\n",
    "  MemberID STRING,\n",
    "  ProviderID STRING,\n",
    "  ClaimDate STRING,\n",
    "  ServiceDate STRING,\n",
    "  Amount STRING,\n",
    "  Status STRING,\n",
    "  ICD10Codes STRING,\n",
    "  CPTCodes STRING,\n",
    "  ClaimType STRING,\n",
    "  SubmissionChannel STRING,\n",
    "  Notes STRING,\n",
    "  IngestTimestamp STRING,\n",
    "  -- Metadata fields\n",
    "  _source STRING,\n",
    "  _ingestion_timestamp TIMESTAMP\n",
    "  -- _batch_id STRING\n",
    ");\n",
    "\n",
    "-- Delta configs (commented out)\n",
    "-- USING DELTA\n",
    "-- LOCATION 's3://your-bucket/capstone/bronze/claims_batch/'\n",
    "-- TBLPROPERTIES (\n",
    "--   'delta.enableChangeDataFeed' = 'true',\n",
    "--   'delta.autoOptimize.optimizeWrite' = 'true',\n",
    "--   'delta.autoOptimize.autoCompact' = 'true'\n",
    "-- );\n"
   ]
  },
  {
   "cell_type": "code",
   "execution_count": 0,
   "metadata": {
    "application/vnd.databricks.v1+cell": {
     "cellMetadata": {
      "byteLimit": 2048000,
      "rowLimit": 10000
     },
     "inputWidgets": {},
     "nuid": "edca8875-89b1-4e8d-bcee-909961c743c8",
     "showTitle": false,
     "tableResultSettingsMap": {},
     "title": ""
    }
   },
   "outputs": [],
   "source": [
    "-- Bronze: Claims Streaming Data (JSON ingestion)\n",
    "CREATE TABLE IF NOT EXISTS IDENTIFIER(:myschema || '.claims_streaming') (\n",
    "  ClaimID STRING,\n",
    "  MemberID STRING,\n",
    "  ProviderID STRING,\n",
    "  ClaimDate STRING,\n",
    "  Amount STRING,\n",
    "  Status STRING,\n",
    "  ICD10Codes STRING,\n",
    "  CPTCodes STRING,\n",
    "  EventTimestamp STRING,\n",
    "  -- Metadata fields\n",
    "  _source STRING,\n",
    "  _ingestion_timestamp TIMESTAMP\n",
    ");\n",
    "\n",
    "-- Delta configs\n",
    "-- USING DELTA\n",
    "-- LOCATION 's3://your-bucket/capstone/bronze/claims_streaming/'\n",
    "-- TBLPROPERTIES (\n",
    "--   'delta.enableChangeDataFeed' = 'true',\n",
    "--   'delta.autoOptimize.optimizeWrite' = 'true'\n",
    "-- );\n"
   ]
  },
  {
   "cell_type": "code",
   "execution_count": 0,
   "metadata": {
    "application/vnd.databricks.v1+cell": {
     "cellMetadata": {
      "byteLimit": 2048000,
      "rowLimit": 10000
     },
     "inputWidgets": {},
     "nuid": "5d648ccb-1142-44df-b85d-a97914b6c95a",
     "showTitle": false,
     "tableResultSettingsMap": {},
     "title": ""
    }
   },
   "outputs": [],
   "source": [
    "-- Bronze: Members Data\n",
    "CREATE TABLE IF NOT EXISTS IDENTIFIER(:myschema || '.members') (\n",
    "  MemberID STRING,\n",
    "  Name STRING,\n",
    "  DOB STRING,\n",
    "  Gender STRING,\n",
    "  Region STRING,\n",
    "  PlanType STRING,\n",
    "  EffectiveDate STRING,\n",
    "  Email STRING,\n",
    "  IsActive STRING,\n",
    "  LastUpdated STRING,\n",
    "  -- Metadata fields\n",
    "  _source STRING,\n",
    "  _ingestion_timestamp TIMESTAMP\n",
    "  -- _batch_id STRING\n",
    ");\n",
    "\n",
    "-- Delta configs\n",
    "-- USING DELTA\n",
    "-- LOCATION 's3://your-bucket/capstone/bronze/members_raw/'\n",
    "-- TBLPROPERTIES ('delta.enableChangeDataFeed' = 'true');\n"
   ]
  },
  {
   "cell_type": "code",
   "execution_count": 0,
   "metadata": {
    "application/vnd.databricks.v1+cell": {
     "cellMetadata": {
      "byteLimit": 2048000,
      "rowLimit": 10000
     },
     "inputWidgets": {},
     "nuid": "3bbe1376-4777-4e1a-b1f7-4cdd97b5ca13",
     "showTitle": false,
     "tableResultSettingsMap": {},
     "title": ""
    }
   },
   "outputs": [],
   "source": [
    "-- Bronze: Providers Data (JSON nested structure)\n",
    "CREATE TABLE IF NOT EXISTS IDENTIFIER(:myschema || '.providers') (\n",
    "  ProviderID STRING,\n",
    "  Name STRING,\n",
    "  Specialties ARRAY<STRING>,\n",
    "  Locations ARRAY<STRUCT<\n",
    "    Address: STRING,\n",
    "    City: STRING,\n",
    "    State: STRING\n",
    "  >>,\n",
    "  IsActive BOOLEAN,\n",
    "  TIN STRING,\n",
    "  LastVerified STRING,\n",
    "  -- Metadata fields\n",
    "  _source STRING,\n",
    "  _ingestion_timestamp TIMESTAMP\n",
    "  -- _batch_id STRING\n",
    ");\n",
    "\n",
    "-- Delta configs\n",
    "-- USING DELTA\n",
    "-- LOCATION 's3://your-bucket/capstone/bronze/providers_raw/'\n",
    "-- TBLPROPERTIES ('delta.enableChangeDataFeed' = 'true');\n"
   ]
  },
  {
   "cell_type": "code",
   "execution_count": 0,
   "metadata": {
    "application/vnd.databricks.v1+cell": {
     "cellMetadata": {
      "byteLimit": 2048000,
      "rowLimit": 10000
     },
     "inputWidgets": {},
     "nuid": "cc0b004d-5151-4b9f-af00-28167b042dae",
     "showTitle": false,
     "tableResultSettingsMap": {},
     "title": ""
    }
   },
   "outputs": [],
   "source": [
    "-- Bronze: Diagnosis Reference Data\n",
    "CREATE TABLE IF NOT EXISTS IDENTIFIER(:myschema || '.diagnosis_ref') (\n",
    "  Code STRING,\n",
    "  Description STRING,\n",
    "  -- Metadata fields\n",
    "  _source STRING,\n",
    "  _ingestion_timestamp TIMESTAMP\n",
    "  -- _batch_id STRING\n",
    ");\n",
    "\n",
    "-- Delta configs\n",
    "-- USING DELTA\n",
    "-- LOCATION 's3://your-bucket/capstone/bronze/diagnosis_ref/'\n",
    "-- TBLPROPERTIES ('delta.enableChangeDataFeed' = 'true');\n"
   ]
  },
  {
   "cell_type": "code",
   "execution_count": 0,
   "metadata": {
    "application/vnd.databricks.v1+cell": {
     "cellMetadata": {},
     "inputWidgets": {},
     "nuid": "107e7bd6-6de5-426a-8be1-37bd0c2b0a66",
     "showTitle": false,
     "tableResultSettingsMap": {},
     "title": ""
    }
   },
   "outputs": [],
   "source": [
    "-- Bronze: Diagnosis Reference Data\n",
    "CREATE TABLE IF NOT EXISTS IDENTIFIER(:myschema || '.diagnosis_ref') (\n",
    "  Code STRING,\n",
    "  Description STRING,\n",
    "  -- Metadata fields\n",
    "  _source STRING,\n",
    "  _ingestion_timestamp TIMESTAMP\n",
    "  -- _batch_id STRING\n",
    ");\n",
    "\n",
    "-- Delta configs\n",
    "-- USING DELTA\n",
    "-- LOCATION 's3://your-bucket/capstone/bronze/diagnosis_ref/'\n",
    "-- TBLPROPERTIES ('delta.enableChangeDataFeed' = 'true');"
   ]
  },
  {
   "cell_type": "code",
   "execution_count": 0,
   "metadata": {
    "application/vnd.databricks.v1+cell": {
     "cellMetadata": {},
     "inputWidgets": {},
     "nuid": "1c46c8f6-2998-4abb-81be-b7ed8d2df55b",
     "showTitle": false,
     "tableResultSettingsMap": {},
     "title": ""
    }
   },
   "outputs": [],
   "source": [
    "CREATE TABLE IF NOT EXISTS IDENTIFIER(:myschema || '.log_ingest') (\n",
    "  file_name STRING,\n",
    "  timestamp TIMESTAMP,\n",
    "  status STRING,\n",
    "  type STRING,\n",
    "  error_message STRING\n",
    ");\n",
    "\n",
    "-- Delta configs\n",
    "-- USING DELTA\n",
    "-- LOCATION 's3://your-bucket/capstone/bronze/diagnosis_ref/'\n",
    "-- TBLPROPERTIES ('delta.enableChangeDataFeed' = 'true');"
   ]
  }
 ],
 "metadata": {
  "application/vnd.databricks.v1+notebook": {
   "computePreferences": null,
   "dashboards": [],
   "environmentMetadata": {
    "base_environment": "",
    "environment_version": "3"
   },
   "inputWidgetPreferences": null,
   "language": "sql",
   "notebookMetadata": {
    "pythonIndentUnit": 4
   },
   "notebookName": "init_bronze",
   "widgets": {
    "myschema": {
     "currentValue": "capstone.schema_bronze",
     "nuid": "7251bb36-0cd2-4fc8-876c-a62c622a0934",
     "typedWidgetInfo": {
      "autoCreated": false,
      "defaultValue": "capstone.schema_bronze",
      "label": null,
      "name": "myschema",
      "options": {
       "widgetDisplayType": "Text",
       "validationRegex": null
      },
      "parameterDataType": "String"
     },
     "widgetInfo": {
      "widgetType": "text",
      "defaultValue": "capstone.schema_bronze",
      "label": null,
      "name": "myschema",
      "options": {
       "widgetType": "text",
       "autoCreated": null,
       "validationRegex": null
      }
     }
    }
   }
  },
  "language_info": {
   "name": "sql"
  }
 },
 "nbformat": 4,
 "nbformat_minor": 0
}
